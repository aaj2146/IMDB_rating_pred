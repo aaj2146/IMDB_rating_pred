{
 "cells": [
  {
   "cell_type": "code",
   "execution_count": 1,
   "metadata": {},
   "outputs": [],
   "source": [
    "import tensorflow as tf\n",
    "import pandas as pd"
   ]
  },
  {
   "cell_type": "code",
   "execution_count": 2,
   "metadata": {},
   "outputs": [
    {
     "name": "stdout",
     "output_type": "stream",
     "text": [
      "2.0.0-alpha0\n"
     ]
    }
   ],
   "source": [
    "print(tf.__version__)"
   ]
  },
  {
   "cell_type": "code",
   "execution_count": 3,
   "metadata": {},
   "outputs": [],
   "source": [
    "# Reading Data from tsv\n",
    "title_basics_df = pd.read_csv('title.basics.tsv', sep='\\t')\n",
    "title_cast_df = pd.read_csv('title.principals.tsv', sep='\\t')\n",
    "title_ratings_df = pd.read_csv('title.ratings.tsv', sep='\\t')\n",
    "\n",
    "name_basics_df = pd.read_csv('name.basics.tsv', sep='\\t')\n",
    "title_akas_df = pd.read_csv('title.akas.tsv', sep='\\t')\n",
    "title_crew_df = pd.read_csv('title.crew.tsv', sep='\\t')"
   ]
  },
  {
   "cell_type": "code",
   "execution_count": 5,
   "metadata": {},
   "outputs": [
    {
     "data": {
      "text/html": [
       "<div>\n",
       "<style scoped>\n",
       "    .dataframe tbody tr th:only-of-type {\n",
       "        vertical-align: middle;\n",
       "    }\n",
       "\n",
       "    .dataframe tbody tr th {\n",
       "        vertical-align: top;\n",
       "    }\n",
       "\n",
       "    .dataframe thead th {\n",
       "        text-align: right;\n",
       "    }\n",
       "</style>\n",
       "<table border=\"1\" class=\"dataframe\">\n",
       "  <thead>\n",
       "    <tr style=\"text-align: right;\">\n",
       "      <th></th>\n",
       "      <th>tconst</th>\n",
       "      <th>titleType</th>\n",
       "      <th>primaryTitle</th>\n",
       "      <th>originalTitle</th>\n",
       "      <th>isAdult</th>\n",
       "      <th>startYear</th>\n",
       "      <th>endYear</th>\n",
       "      <th>runtimeMinutes</th>\n",
       "      <th>genres</th>\n",
       "    </tr>\n",
       "  </thead>\n",
       "  <tbody>\n",
       "    <tr>\n",
       "      <th>0</th>\n",
       "      <td>tt0000001</td>\n",
       "      <td>short</td>\n",
       "      <td>Carmencita</td>\n",
       "      <td>Carmencita</td>\n",
       "      <td>0</td>\n",
       "      <td>1894</td>\n",
       "      <td>\\N</td>\n",
       "      <td>1</td>\n",
       "      <td>Documentary,Short</td>\n",
       "    </tr>\n",
       "    <tr>\n",
       "      <th>1</th>\n",
       "      <td>tt0000002</td>\n",
       "      <td>short</td>\n",
       "      <td>Le clown et ses chiens</td>\n",
       "      <td>Le clown et ses chiens</td>\n",
       "      <td>0</td>\n",
       "      <td>1892</td>\n",
       "      <td>\\N</td>\n",
       "      <td>5</td>\n",
       "      <td>Animation,Short</td>\n",
       "    </tr>\n",
       "    <tr>\n",
       "      <th>2</th>\n",
       "      <td>tt0000003</td>\n",
       "      <td>short</td>\n",
       "      <td>Pauvre Pierrot</td>\n",
       "      <td>Pauvre Pierrot</td>\n",
       "      <td>0</td>\n",
       "      <td>1892</td>\n",
       "      <td>\\N</td>\n",
       "      <td>4</td>\n",
       "      <td>Animation,Comedy,Romance</td>\n",
       "    </tr>\n",
       "    <tr>\n",
       "      <th>3</th>\n",
       "      <td>tt0000004</td>\n",
       "      <td>short</td>\n",
       "      <td>Un bon bock</td>\n",
       "      <td>Un bon bock</td>\n",
       "      <td>0</td>\n",
       "      <td>1892</td>\n",
       "      <td>\\N</td>\n",
       "      <td>\\N</td>\n",
       "      <td>Animation,Short</td>\n",
       "    </tr>\n",
       "    <tr>\n",
       "      <th>4</th>\n",
       "      <td>tt0000005</td>\n",
       "      <td>short</td>\n",
       "      <td>Blacksmith Scene</td>\n",
       "      <td>Blacksmith Scene</td>\n",
       "      <td>0</td>\n",
       "      <td>1893</td>\n",
       "      <td>\\N</td>\n",
       "      <td>1</td>\n",
       "      <td>Comedy,Short</td>\n",
       "    </tr>\n",
       "  </tbody>\n",
       "</table>\n",
       "</div>"
      ],
      "text/plain": [
       "      tconst titleType            primaryTitle           originalTitle  \\\n",
       "0  tt0000001     short              Carmencita              Carmencita   \n",
       "1  tt0000002     short  Le clown et ses chiens  Le clown et ses chiens   \n",
       "2  tt0000003     short          Pauvre Pierrot          Pauvre Pierrot   \n",
       "3  tt0000004     short             Un bon bock             Un bon bock   \n",
       "4  tt0000005     short        Blacksmith Scene        Blacksmith Scene   \n",
       "\n",
       "   isAdult startYear endYear runtimeMinutes                    genres  \n",
       "0        0      1894      \\N              1         Documentary,Short  \n",
       "1        0      1892      \\N              5           Animation,Short  \n",
       "2        0      1892      \\N              4  Animation,Comedy,Romance  \n",
       "3        0      1892      \\N             \\N           Animation,Short  \n",
       "4        0      1893      \\N              1              Comedy,Short  "
      ]
     },
     "execution_count": 5,
     "metadata": {},
     "output_type": "execute_result"
    }
   ],
   "source": [
    "title_basics_df.head()"
   ]
  },
  {
   "cell_type": "code",
   "execution_count": 6,
   "metadata": {},
   "outputs": [
    {
     "data": {
      "text/html": [
       "<div>\n",
       "<style scoped>\n",
       "    .dataframe tbody tr th:only-of-type {\n",
       "        vertical-align: middle;\n",
       "    }\n",
       "\n",
       "    .dataframe tbody tr th {\n",
       "        vertical-align: top;\n",
       "    }\n",
       "\n",
       "    .dataframe thead th {\n",
       "        text-align: right;\n",
       "    }\n",
       "</style>\n",
       "<table border=\"1\" class=\"dataframe\">\n",
       "  <thead>\n",
       "    <tr style=\"text-align: right;\">\n",
       "      <th></th>\n",
       "      <th>tconst</th>\n",
       "      <th>ordering</th>\n",
       "      <th>nconst</th>\n",
       "      <th>category</th>\n",
       "      <th>job</th>\n",
       "      <th>characters</th>\n",
       "    </tr>\n",
       "  </thead>\n",
       "  <tbody>\n",
       "    <tr>\n",
       "      <th>32887181</th>\n",
       "      <td>tt9916896</td>\n",
       "      <td>5</td>\n",
       "      <td>nm8181480</td>\n",
       "      <td>writer</td>\n",
       "      <td>\\N</td>\n",
       "      <td>\\N</td>\n",
       "    </tr>\n",
       "    <tr>\n",
       "      <th>32887182</th>\n",
       "      <td>tt9916896</td>\n",
       "      <td>6</td>\n",
       "      <td>nm8119743</td>\n",
       "      <td>writer</td>\n",
       "      <td>\\N</td>\n",
       "      <td>\\N</td>\n",
       "    </tr>\n",
       "    <tr>\n",
       "      <th>32887183</th>\n",
       "      <td>tt9916896</td>\n",
       "      <td>7</td>\n",
       "      <td>nm3114985</td>\n",
       "      <td>producer</td>\n",
       "      <td>producer</td>\n",
       "      <td>\\N</td>\n",
       "    </tr>\n",
       "    <tr>\n",
       "      <th>32887184</th>\n",
       "      <td>tt9916896</td>\n",
       "      <td>8</td>\n",
       "      <td>nm6812444</td>\n",
       "      <td>composer</td>\n",
       "      <td>\\N</td>\n",
       "      <td>\\N</td>\n",
       "    </tr>\n",
       "    <tr>\n",
       "      <th>32887185</th>\n",
       "      <td>tt9916896</td>\n",
       "      <td>9</td>\n",
       "      <td>nm3249786</td>\n",
       "      <td>composer</td>\n",
       "      <td>\\N</td>\n",
       "      <td>\\N</td>\n",
       "    </tr>\n",
       "  </tbody>\n",
       "</table>\n",
       "</div>"
      ],
      "text/plain": [
       "             tconst  ordering     nconst  category       job characters\n",
       "32887181  tt9916896         5  nm8181480    writer        \\N         \\N\n",
       "32887182  tt9916896         6  nm8119743    writer        \\N         \\N\n",
       "32887183  tt9916896         7  nm3114985  producer  producer         \\N\n",
       "32887184  tt9916896         8  nm6812444  composer        \\N         \\N\n",
       "32887185  tt9916896         9  nm3249786  composer        \\N         \\N"
      ]
     },
     "execution_count": 6,
     "metadata": {},
     "output_type": "execute_result"
    }
   ],
   "source": [
    "title_cast_df.tail()"
   ]
  },
  {
   "cell_type": "code",
   "execution_count": 7,
   "metadata": {},
   "outputs": [
    {
     "data": {
      "text/html": [
       "<div>\n",
       "<style scoped>\n",
       "    .dataframe tbody tr th:only-of-type {\n",
       "        vertical-align: middle;\n",
       "    }\n",
       "\n",
       "    .dataframe tbody tr th {\n",
       "        vertical-align: top;\n",
       "    }\n",
       "\n",
       "    .dataframe thead th {\n",
       "        text-align: right;\n",
       "    }\n",
       "</style>\n",
       "<table border=\"1\" class=\"dataframe\">\n",
       "  <thead>\n",
       "    <tr style=\"text-align: right;\">\n",
       "      <th></th>\n",
       "      <th>tconst</th>\n",
       "      <th>averageRating</th>\n",
       "      <th>numVotes</th>\n",
       "    </tr>\n",
       "  </thead>\n",
       "  <tbody>\n",
       "    <tr>\n",
       "      <th>0</th>\n",
       "      <td>tt0000001</td>\n",
       "      <td>5.8</td>\n",
       "      <td>1479</td>\n",
       "    </tr>\n",
       "    <tr>\n",
       "      <th>1</th>\n",
       "      <td>tt0000002</td>\n",
       "      <td>6.4</td>\n",
       "      <td>176</td>\n",
       "    </tr>\n",
       "    <tr>\n",
       "      <th>2</th>\n",
       "      <td>tt0000003</td>\n",
       "      <td>6.6</td>\n",
       "      <td>1110</td>\n",
       "    </tr>\n",
       "    <tr>\n",
       "      <th>3</th>\n",
       "      <td>tt0000004</td>\n",
       "      <td>6.4</td>\n",
       "      <td>107</td>\n",
       "    </tr>\n",
       "    <tr>\n",
       "      <th>4</th>\n",
       "      <td>tt0000005</td>\n",
       "      <td>6.2</td>\n",
       "      <td>1815</td>\n",
       "    </tr>\n",
       "  </tbody>\n",
       "</table>\n",
       "</div>"
      ],
      "text/plain": [
       "      tconst  averageRating  numVotes\n",
       "0  tt0000001            5.8      1479\n",
       "1  tt0000002            6.4       176\n",
       "2  tt0000003            6.6      1110\n",
       "3  tt0000004            6.4       107\n",
       "4  tt0000005            6.2      1815"
      ]
     },
     "execution_count": 7,
     "metadata": {},
     "output_type": "execute_result"
    }
   ],
   "source": [
    "title_ratings_df.head()"
   ]
  },
  {
   "cell_type": "code",
   "execution_count": 8,
   "metadata": {},
   "outputs": [
    {
     "data": {
      "text/plain": [
       "<matplotlib.axes._subplots.AxesSubplot at 0x193feba58>"
      ]
     },
     "execution_count": 8,
     "metadata": {},
     "output_type": "execute_result"
    },
    {
     "data": {
      "image/png": "[encoded data removed]",
      "text/plain": [
       "<Figure size 432x288 with 1 Axes>"
      ]
     },
     "metadata": {
      "needs_background": "light"
     },
     "output_type": "display_data"
    }
   ],
   "source": [
    "%matplotlib inline\n",
    "title_ratings_df.averageRating.hist(bins = 50)"
   ]
  },
  {
   "cell_type": "code",
   "execution_count": 9,
   "metadata": {},
   "outputs": [
    {
     "data": {
      "text/html": [
       "<div>\n",
       "<style scoped>\n",
       "    .dataframe tbody tr th:only-of-type {\n",
       "        vertical-align: middle;\n",
       "    }\n",
       "\n",
       "    .dataframe tbody tr th {\n",
       "        vertical-align: top;\n",
       "    }\n",
       "\n",
       "    .dataframe thead th {\n",
       "        text-align: right;\n",
       "    }\n",
       "</style>\n",
       "<table border=\"1\" class=\"dataframe\">\n",
       "  <thead>\n",
       "    <tr style=\"text-align: right;\">\n",
       "      <th></th>\n",
       "      <th>nconst</th>\n",
       "      <th>primaryName</th>\n",
       "      <th>birthYear</th>\n",
       "      <th>deathYear</th>\n",
       "      <th>primaryProfession</th>\n",
       "      <th>knownForTitles</th>\n",
       "    </tr>\n",
       "  </thead>\n",
       "  <tbody>\n",
       "    <tr>\n",
       "      <th>0</th>\n",
       "      <td>nm0000001</td>\n",
       "      <td>Fred Astaire</td>\n",
       "      <td>1899</td>\n",
       "      <td>1987</td>\n",
       "      <td>soundtrack,actor,miscellaneous</td>\n",
       "      <td>tt0043044,tt0050419,tt0053137,tt0072308</td>\n",
       "    </tr>\n",
       "    <tr>\n",
       "      <th>1</th>\n",
       "      <td>nm0000002</td>\n",
       "      <td>Lauren Bacall</td>\n",
       "      <td>1924</td>\n",
       "      <td>2014</td>\n",
       "      <td>actress,soundtrack</td>\n",
       "      <td>tt0117057,tt0037382,tt0038355,tt0071877</td>\n",
       "    </tr>\n",
       "    <tr>\n",
       "      <th>2</th>\n",
       "      <td>nm0000003</td>\n",
       "      <td>Brigitte Bardot</td>\n",
       "      <td>1934</td>\n",
       "      <td>\\N</td>\n",
       "      <td>actress,soundtrack,producer</td>\n",
       "      <td>tt0054452,tt0057345,tt0049189,tt0059956</td>\n",
       "    </tr>\n",
       "    <tr>\n",
       "      <th>3</th>\n",
       "      <td>nm0000004</td>\n",
       "      <td>John Belushi</td>\n",
       "      <td>1949</td>\n",
       "      <td>1982</td>\n",
       "      <td>actor,writer,soundtrack</td>\n",
       "      <td>tt0080455,tt0078723,tt0072562,tt0077975</td>\n",
       "    </tr>\n",
       "    <tr>\n",
       "      <th>4</th>\n",
       "      <td>nm0000005</td>\n",
       "      <td>Ingmar Bergman</td>\n",
       "      <td>1918</td>\n",
       "      <td>2007</td>\n",
       "      <td>writer,director,actor</td>\n",
       "      <td>tt0050976,tt0050986,tt0069467,tt0083922</td>\n",
       "    </tr>\n",
       "  </tbody>\n",
       "</table>\n",
       "</div>"
      ],
      "text/plain": [
       "      nconst      primaryName birthYear deathYear  \\\n",
       "0  nm0000001     Fred Astaire      1899      1987   \n",
       "1  nm0000002    Lauren Bacall      1924      2014   \n",
       "2  nm0000003  Brigitte Bardot      1934        \\N   \n",
       "3  nm0000004     John Belushi      1949      1982   \n",
       "4  nm0000005   Ingmar Bergman      1918      2007   \n",
       "\n",
       "                primaryProfession                           knownForTitles  \n",
       "0  soundtrack,actor,miscellaneous  tt0043044,tt0050419,tt0053137,tt0072308  \n",
       "1              actress,soundtrack  tt0117057,tt0037382,tt0038355,tt0071877  \n",
       "2     actress,soundtrack,producer  tt0054452,tt0057345,tt0049189,tt0059956  \n",
       "3         actor,writer,soundtrack  tt0080455,tt0078723,tt0072562,tt0077975  \n",
       "4           writer,director,actor  tt0050976,tt0050986,tt0069467,tt0083922  "
      ]
     },
     "execution_count": 9,
     "metadata": {},
     "output_type": "execute_result"
    }
   ],
   "source": [
    "name_basics_df.head()"
   ]
  },
  {
   "cell_type": "code",
   "execution_count": 10,
   "metadata": {},
   "outputs": [
    {
     "data": {
      "text/html": [
       "<div>\n",
       "<style scoped>\n",
       "    .dataframe tbody tr th:only-of-type {\n",
       "        vertical-align: middle;\n",
       "    }\n",
       "\n",
       "    .dataframe tbody tr th {\n",
       "        vertical-align: top;\n",
       "    }\n",
       "\n",
       "    .dataframe thead th {\n",
       "        text-align: right;\n",
       "    }\n",
       "</style>\n",
       "<table border=\"1\" class=\"dataframe\">\n",
       "  <thead>\n",
       "    <tr style=\"text-align: right;\">\n",
       "      <th></th>\n",
       "      <th>titleId</th>\n",
       "      <th>ordering</th>\n",
       "      <th>title</th>\n",
       "      <th>region</th>\n",
       "      <th>language</th>\n",
       "      <th>types</th>\n",
       "      <th>attributes</th>\n",
       "      <th>isOriginalTitle</th>\n",
       "    </tr>\n",
       "  </thead>\n",
       "  <tbody>\n",
       "    <tr>\n",
       "      <th>0</th>\n",
       "      <td>tt0000001</td>\n",
       "      <td>1</td>\n",
       "      <td>Carmencita - spanyol tánc</td>\n",
       "      <td>HU</td>\n",
       "      <td>\\N</td>\n",
       "      <td>imdbDisplay</td>\n",
       "      <td>\\N</td>\n",
       "      <td>0</td>\n",
       "    </tr>\n",
       "    <tr>\n",
       "      <th>1</th>\n",
       "      <td>tt0000001</td>\n",
       "      <td>2</td>\n",
       "      <td>Καρμενσίτα</td>\n",
       "      <td>GR</td>\n",
       "      <td>\\N</td>\n",
       "      <td>\\N</td>\n",
       "      <td>\\N</td>\n",
       "      <td>0</td>\n",
       "    </tr>\n",
       "    <tr>\n",
       "      <th>2</th>\n",
       "      <td>tt0000001</td>\n",
       "      <td>3</td>\n",
       "      <td>Карменсита</td>\n",
       "      <td>RU</td>\n",
       "      <td>\\N</td>\n",
       "      <td>\\N</td>\n",
       "      <td>\\N</td>\n",
       "      <td>0</td>\n",
       "    </tr>\n",
       "    <tr>\n",
       "      <th>3</th>\n",
       "      <td>tt0000001</td>\n",
       "      <td>4</td>\n",
       "      <td>Carmencita</td>\n",
       "      <td>US</td>\n",
       "      <td>\\N</td>\n",
       "      <td>\\N</td>\n",
       "      <td>\\N</td>\n",
       "      <td>0</td>\n",
       "    </tr>\n",
       "    <tr>\n",
       "      <th>4</th>\n",
       "      <td>tt0000001</td>\n",
       "      <td>5</td>\n",
       "      <td>Carmencita</td>\n",
       "      <td>\\N</td>\n",
       "      <td>\\N</td>\n",
       "      <td>original</td>\n",
       "      <td>\\N</td>\n",
       "      <td>1</td>\n",
       "    </tr>\n",
       "  </tbody>\n",
       "</table>\n",
       "</div>"
      ],
      "text/plain": [
       "     titleId  ordering                      title region language  \\\n",
       "0  tt0000001         1  Carmencita - spanyol tánc     HU       \\N   \n",
       "1  tt0000001         2                 Καρμενσίτα     GR       \\N   \n",
       "2  tt0000001         3                 Карменсита     RU       \\N   \n",
       "3  tt0000001         4                 Carmencita     US       \\N   \n",
       "4  tt0000001         5                 Carmencita     \\N       \\N   \n",
       "\n",
       "         types attributes isOriginalTitle  \n",
       "0  imdbDisplay         \\N               0  \n",
       "1           \\N         \\N               0  \n",
       "2           \\N         \\N               0  \n",
       "3           \\N         \\N               0  \n",
       "4     original         \\N               1  "
      ]
     },
     "execution_count": 10,
     "metadata": {},
     "output_type": "execute_result"
    }
   ],
   "source": [
    "title_akas_df.head()"
   ]
  },
  {
   "cell_type": "code",
   "execution_count": 11,
   "metadata": {},
   "outputs": [
    {
     "data": {
      "text/html": [
       "<div>\n",
       "<style scoped>\n",
       "    .dataframe tbody tr th:only-of-type {\n",
       "        vertical-align: middle;\n",
       "    }\n",
       "\n",
       "    .dataframe tbody tr th {\n",
       "        vertical-align: top;\n",
       "    }\n",
       "\n",
       "    .dataframe thead th {\n",
       "        text-align: right;\n",
       "    }\n",
       "</style>\n",
       "<table border=\"1\" class=\"dataframe\">\n",
       "  <thead>\n",
       "    <tr style=\"text-align: right;\">\n",
       "      <th></th>\n",
       "      <th>tconst</th>\n",
       "      <th>directors</th>\n",
       "      <th>writers</th>\n",
       "    </tr>\n",
       "  </thead>\n",
       "  <tbody>\n",
       "    <tr>\n",
       "      <th>0</th>\n",
       "      <td>tt0000001</td>\n",
       "      <td>nm0005690</td>\n",
       "      <td>\\N</td>\n",
       "    </tr>\n",
       "    <tr>\n",
       "      <th>1</th>\n",
       "      <td>tt0000002</td>\n",
       "      <td>nm0721526</td>\n",
       "      <td>\\N</td>\n",
       "    </tr>\n",
       "    <tr>\n",
       "      <th>2</th>\n",
       "      <td>tt0000003</td>\n",
       "      <td>nm0721526</td>\n",
       "      <td>\\N</td>\n",
       "    </tr>\n",
       "    <tr>\n",
       "      <th>3</th>\n",
       "      <td>tt0000004</td>\n",
       "      <td>nm0721526</td>\n",
       "      <td>\\N</td>\n",
       "    </tr>\n",
       "    <tr>\n",
       "      <th>4</th>\n",
       "      <td>tt0000005</td>\n",
       "      <td>nm0005690</td>\n",
       "      <td>\\N</td>\n",
       "    </tr>\n",
       "  </tbody>\n",
       "</table>\n",
       "</div>"
      ],
      "text/plain": [
       "      tconst  directors writers\n",
       "0  tt0000001  nm0005690      \\N\n",
       "1  tt0000002  nm0721526      \\N\n",
       "2  tt0000003  nm0721526      \\N\n",
       "3  tt0000004  nm0721526      \\N\n",
       "4  tt0000005  nm0005690      \\N"
      ]
     },
     "execution_count": 11,
     "metadata": {},
     "output_type": "execute_result"
    }
   ],
   "source": [
    "title_crew_df.head()"
   ]
  },
  {
   "cell_type": "markdown",
   "metadata": {},
   "source": [
    "## Cleaning Data\n",
    "The year column is converted to integer type and for genre only the first genre is retained as the movie genre."
   ]
  },
  {
   "cell_type": "code",
   "execution_count": 6,
   "metadata": {},
   "outputs": [],
   "source": [
    "## Helper Functions to clean data \n",
    "## Source: https://www.chrisgiler.com/journal\n",
    "\n",
    "\n",
    "\n",
    "def clean_year(y):\n",
    "    # Return year as an integer or 'NaN' if empty\n",
    "    import numpy as np\n",
    "    try:\n",
    "        return int(y)\n",
    "    except:\n",
    "        return np.nan\n",
    "\n",
    "def clean_genre(y):\n",
    "    # Return only the first genre listed\n",
    "    y = str(y)\n",
    "    if y == '\\\\N':\n",
    "        return ''\n",
    "    return y.split(',')[0].strip()\n",
    "\n",
    "title_basics_df.drop('endYear', axis=1, inplace=True)\n",
    "title_basics_df['startYear'] = title_basics_df['startYear'].apply(clean_year)\n",
    "title_basics_df['runtimeMinutes'] = title_basics_df['runtimeMinutes'].apply(clean_year)\n",
    "title_basics_df['genres'] = title_basics_df['genres'].apply(clean_genre)\n",
    "title_basics_df.dropna(inplace=True, how='any', subset=['startYear', 'runtimeMinutes', 'genres'])\n",
    "\n"
   ]
  },
  {
   "cell_type": "markdown",
   "metadata": {},
   "source": [
    "## Exploring the ratings df"
   ]
  },
  {
   "cell_type": "code",
   "execution_count": null,
   "metadata": {},
   "outputs": [],
   "source": []
  },
  {
   "cell_type": "code",
   "execution_count": 8,
   "metadata": {},
   "outputs": [
    {
     "data": {
      "text/plain": [
       "<matplotlib.axes._subplots.AxesSubplot at 0x1957fd470>"
      ]
     },
     "execution_count": 8,
     "metadata": {},
     "output_type": "execute_result"
    },
    {
     "data": {
      "image/png": "[encoded data removed]",
      "text/plain": [
       "<Figure size 432x288 with 1 Axes>"
      ]
     },
     "metadata": {
      "needs_background": "light"
     },
     "output_type": "display_data"
    }
   ],
   "source": [
    "%matplotlib inline\n",
    "title_ratings_df.averageRating.hist(bins = 50)"
   ]
  },
  {
   "cell_type": "code",
   "execution_count": null,
   "metadata": {},
   "outputs": [],
   "source": []
  },
  {
   "cell_type": "markdown",
   "metadata": {},
   "source": [
    "## Filtering the cast dataframe\n",
    "From the Ratings dataframe we choose to focus on movies that had more than 1500 reviews and those that were released after 1990. \n",
    "\n",
    "This is done to avoid obscure or unpopular movies and also to avoid possible bias with a small number of reviews. A large number of review should reduce noise in capturing the 'goodness' of a movie. "
   ]
  },
  {
   "cell_type": "code",
   "execution_count": 394,
   "metadata": {},
   "outputs": [],
   "source": [
    "\n",
    "\n",
    "ratings_filt = title_ratings_df[title_ratings_df.numVotes > 1500]\n",
    "\n",
    "\n",
    "\n",
    "merged_df = title_basics_df.merge(ratings_filt, on='tconst', how='inner')\n",
    "\n",
    "merged_title_df = merged_df[(merged_df.startYear > 1990) & (merged_df.titleType == 'movie')]\n",
    "\n"
   ]
  },
  {
   "cell_type": "code",
   "execution_count": null,
   "metadata": {},
   "outputs": [],
   "source": []
  },
  {
   "cell_type": "markdown",
   "metadata": {},
   "source": [
    "## Categorical embeddings for important cast members\n",
    "\n",
    "- For the task of predicting average movie ratings on IMDB, we will filter on average number of votes as well as release date. We will focus our attention on 'modern' movies i.e. those that were released after 1990 and those movies with atleast 1500 reviews. This is done to avoid obscure or unpopular movies and also to avoid possible bias with a small number of reviews. A large number of review should reduce noise in capturing the 'goodness' of a movie. \n",
    "\n",
    "- The hypothesis is that for each movie the key contributing factors to its success are the **cast, the director, producer etc**. There are about ~7000 unique individuals involved with the movies for the period we have filtered. Therefore, we convert these high cardinality categorical variables of key cast members into fixed dimensional embeddings of length 16. For each movie we will sum up the vectors to represent their combined effect for a movie. We will also try a model where the embeddings for each of the cast members is concatenated for comparison.\n",
    "\n",
    "\n",
    "#### An intuitive explanation for the categorical embeddings:\n",
    "*A high cardinality categorical variable with say 7000 unique values can be thought of as a grouping of say 16 main categories. A tangible example would be: Actors can be classified as Action, Romance, Comedy etc. specialists. Loosely speaking, each of the 16 dimensions in the embedding could represent how much of Action or Comedy or Romance an actor is 'good' at. Thus each dimension acts as a lever. Ofcourse, this is a synthetic example and the 16 dimensions may not represent anything that we are familiar with. However, the model may learn embeddings that represent a notion of closeness to other features like movie genre or other people working on a movie. A real life example could be, given that a movie is made by Tim Burton, there is a very high likelihood of Johnny Depp starring in it.*\n",
    "\n",
    "\n",
    "\n",
    "Likewise, the Genre categorical variable will also be converted into an embedding of length 10.\n",
    "\n"
   ]
  },
  {
   "cell_type": "code",
   "execution_count": 560,
   "metadata": {},
   "outputs": [
    {
     "name": "stderr",
     "output_type": "stream",
     "text": [
      "/Users/adityajadhav/anaconda3/envs/myenv/lib/python3.6/site-packages/ipykernel_launcher.py:3: SettingWithCopyWarning: \n",
      "A value is trying to be set on a copy of a slice from a DataFrame\n",
      "\n",
      "See the caveats in the documentation: http://pandas.pydata.org/pandas-docs/stable/indexing.html#indexing-view-versus-copy\n",
      "  This is separate from the ipykernel package so we can avoid doing imports until\n"
     ]
    }
   ],
   "source": [
    "# Isolate the cast information dataframe to get movies that we are interested in\n",
    "cast_filt = title_cast_df[title_cast_df.tconst.isin(merged_title_df.tconst.unique())]\n",
    "\n",
    "cast_filt.sort_values(by=['tconst', 'ordering'], inplace=True)"
   ]
  },
  {
   "cell_type": "code",
   "execution_count": 400,
   "metadata": {},
   "outputs": [
    {
     "data": {
      "text/html": [
       "<div>\n",
       "<style scoped>\n",
       "    .dataframe tbody tr th:only-of-type {\n",
       "        vertical-align: middle;\n",
       "    }\n",
       "\n",
       "    .dataframe tbody tr th {\n",
       "        vertical-align: top;\n",
       "    }\n",
       "\n",
       "    .dataframe thead th {\n",
       "        text-align: right;\n",
       "    }\n",
       "</style>\n",
       "<table border=\"1\" class=\"dataframe\">\n",
       "  <thead>\n",
       "    <tr style=\"text-align: right;\">\n",
       "      <th></th>\n",
       "      <th>tconst</th>\n",
       "      <th>ordering</th>\n",
       "      <th>nconst</th>\n",
       "      <th>category</th>\n",
       "      <th>job</th>\n",
       "      <th>characters</th>\n",
       "    </tr>\n",
       "  </thead>\n",
       "  <tbody>\n",
       "    <tr>\n",
       "      <th>280730</th>\n",
       "      <td>tt0035423</td>\n",
       "      <td>1</td>\n",
       "      <td>nm0000212</td>\n",
       "      <td>actress</td>\n",
       "      <td>\\N</td>\n",
       "      <td>[\"Kate McKay\"]</td>\n",
       "    </tr>\n",
       "    <tr>\n",
       "      <th>280731</th>\n",
       "      <td>tt0035423</td>\n",
       "      <td>2</td>\n",
       "      <td>nm0413168</td>\n",
       "      <td>actor</td>\n",
       "      <td>\\N</td>\n",
       "      <td>[\"Leopold\"]</td>\n",
       "    </tr>\n",
       "    <tr>\n",
       "      <th>280732</th>\n",
       "      <td>tt0035423</td>\n",
       "      <td>3</td>\n",
       "      <td>nm0000630</td>\n",
       "      <td>actor</td>\n",
       "      <td>\\N</td>\n",
       "      <td>[\"Stuart Besser\"]</td>\n",
       "    </tr>\n",
       "    <tr>\n",
       "      <th>280733</th>\n",
       "      <td>tt0035423</td>\n",
       "      <td>4</td>\n",
       "      <td>nm0005227</td>\n",
       "      <td>actor</td>\n",
       "      <td>\\N</td>\n",
       "      <td>[\"Charlie McKay\"]</td>\n",
       "    </tr>\n",
       "    <tr>\n",
       "      <th>280734</th>\n",
       "      <td>tt0035423</td>\n",
       "      <td>5</td>\n",
       "      <td>nm0003506</td>\n",
       "      <td>director</td>\n",
       "      <td>\\N</td>\n",
       "      <td>\\N</td>\n",
       "    </tr>\n",
       "  </tbody>\n",
       "</table>\n",
       "</div>"
      ],
      "text/plain": [
       "           tconst  ordering     nconst  category job         characters\n",
       "280730  tt0035423         1  nm0000212   actress  \\N     [\"Kate McKay\"]\n",
       "280731  tt0035423         2  nm0413168     actor  \\N        [\"Leopold\"]\n",
       "280732  tt0035423         3  nm0000630     actor  \\N  [\"Stuart Besser\"]\n",
       "280733  tt0035423         4  nm0005227     actor  \\N  [\"Charlie McKay\"]\n",
       "280734  tt0035423         5  nm0003506  director  \\N                 \\N"
      ]
     },
     "execution_count": 400,
     "metadata": {},
     "output_type": "execute_result"
    }
   ],
   "source": [
    "cast_filt.head()"
   ]
  },
  {
   "cell_type": "code",
   "execution_count": 561,
   "metadata": {},
   "outputs": [
    {
     "name": "stderr",
     "output_type": "stream",
     "text": [
      "/Users/adityajadhav/anaconda3/envs/myenv/lib/python3.6/site-packages/pandas/core/generic.py:5096: SettingWithCopyWarning: \n",
      "A value is trying to be set on a copy of a slice from a DataFrame.\n",
      "Try using .loc[row_indexer,col_indexer] = value instead\n",
      "\n",
      "See the caveats in the documentation: http://pandas.pydata.org/pandas-docs/stable/indexing.html#indexing-view-versus-copy\n",
      "  self[name] = value\n"
     ]
    }
   ],
   "source": [
    "# Converting the string id of each person in the cast to a numeric label encoding\n",
    "from sklearn.preprocessing import LabelEncoder\n",
    "le = LabelEncoder()\n",
    "le.fit(cast_filt.nconst)\n",
    "cast_filt.nconst = le.transform(cast_filt.nconst)"
   ]
  },
  {
   "cell_type": "code",
   "execution_count": null,
   "metadata": {},
   "outputs": [],
   "source": []
  },
  {
   "cell_type": "code",
   "execution_count": 563,
   "metadata": {},
   "outputs": [],
   "source": [
    "\n",
    "# Converting the long format cast dataframe into a wide format\n",
    "# Here we have 10 of the most important cast members for each movie\n",
    "cast_filt_wide = cast_filt.pivot(index='tconst', columns='ordering', values='nconst')\n",
    "\n",
    "cast_filt_wide.reset_index(inplace=True)\n",
    "\n",
    "\n",
    "# Fill up missing values with the token 70019. 0-70018 are the tokens for all the\n",
    "# unique individual cast members. \n",
    "cast_filt_wide.fillna(value=70019, inplace=True)\n",
    "\n",
    "\n",
    "## Merging the cast information with the movie rating dataframe\n",
    "merged_title_df = merged_title_df.merge(cast_filt_wide, on='tconst')\n",
    "\n",
    "\n",
    "\n",
    "merged_title_df['genres'] = merged_title_df['genres'].apply(clean_genre)\n",
    "\n",
    "\n",
    "# Creating X and y variables for ML pipeline\n",
    "X = merged_title_df[['startYear', 'runtimeMinutes',         'genres',\n",
    "               'numVotes',                1,                2,\n",
    "                      3,                4,                5,                6,\n",
    "                      7,                8,                9,               10]]\n",
    "y = merged_title_df[['averageRating']]"
   ]
  },
  {
   "cell_type": "code",
   "execution_count": 564,
   "metadata": {},
   "outputs": [],
   "source": [
    "#y.averageRating = round(y.averageRating)"
   ]
  },
  {
   "cell_type": "code",
   "execution_count": 565,
   "metadata": {},
   "outputs": [],
   "source": [
    "## Converting string genres into integer tokens\n",
    "le.fit(X.genres)\n",
    "X.genres = le.transform(X.genres)"
   ]
  },
  {
   "cell_type": "code",
   "execution_count": null,
   "metadata": {},
   "outputs": [],
   "source": []
  },
  {
   "cell_type": "code",
   "execution_count": null,
   "metadata": {},
   "outputs": [],
   "source": []
  },
  {
   "cell_type": "code",
   "execution_count": null,
   "metadata": {},
   "outputs": [],
   "source": []
  },
  {
   "cell_type": "code",
   "execution_count": 566,
   "metadata": {},
   "outputs": [],
   "source": [
    "from sklearn.model_selection import train_test_split"
   ]
  },
  {
   "cell_type": "code",
   "execution_count": 567,
   "metadata": {},
   "outputs": [],
   "source": [
    "# Splitting data into 80% train and 20% test\n",
    "X_train, X_test, y_train, y_test = train_test_split(X, y,  test_size = 0.2, random_state = 42)"
   ]
  },
  {
   "cell_type": "code",
   "execution_count": 502,
   "metadata": {},
   "outputs": [
    {
     "data": {
      "text/plain": [
       "<matplotlib.axes._subplots.AxesSubplot at 0x44e326b38>"
      ]
     },
     "execution_count": 502,
     "metadata": {},
     "output_type": "execute_result"
    },
    {
     "data": {
      "image/png": "[encoded data removed]",
      "text/plain": [
       "<Figure size 432x288 with 1 Axes>"
      ]
     },
     "metadata": {
      "needs_background": "light"
     },
     "output_type": "display_data"
    }
   ],
   "source": [
    "# Visualizing the distribution of ratings in training set\n",
    "y_train.averageRating.hist()"
   ]
  },
  {
   "cell_type": "code",
   "execution_count": 503,
   "metadata": {},
   "outputs": [
    {
     "data": {
      "text/plain": [
       "<matplotlib.axes._subplots.AxesSubplot at 0x4418ff7b8>"
      ]
     },
     "execution_count": 503,
     "metadata": {},
     "output_type": "execute_result"
    },
    {
     "data": {
      "image/png": "[encoded data removed]",
      "text/plain": [
       "<Figure size 432x288 with 1 Axes>"
      ]
     },
     "metadata": {
      "needs_background": "light"
     },
     "output_type": "display_data"
    }
   ],
   "source": [
    "# Visualizing the distribution of ratings in test set\n",
    "y_test.averageRating.hist()"
   ]
  },
  {
   "cell_type": "markdown",
   "metadata": {},
   "source": [
    " ### Approach 1.1 : Categorical Embedding Neural network (Addition)"
   ]
  },
  {
   "cell_type": "code",
   "execution_count": 509,
   "metadata": {},
   "outputs": [
    {
     "name": "stdout",
     "output_type": "stream",
     "text": [
      "Train on 11670 samples, validate on 1297 samples\n",
      "Epoch 1/50\n",
      "11670/11670 [==============================] - 1s 106us/sample - loss: 3793.7826 - val_loss: 3504.0401\n",
      "Epoch 2/50\n",
      "11670/11670 [==============================] - 1s 60us/sample - loss: 2143.1016 - val_loss: 1537.6804\n",
      "Epoch 3/50\n",
      "11670/11670 [==============================] - 1s 59us/sample - loss: 540.5520 - val_loss: 90.2394\n",
      "Epoch 4/50\n",
      "11670/11670 [==============================] - 1s 56us/sample - loss: 14.7458 - val_loss: 8.1300\n",
      "Epoch 5/50\n",
      "11670/11670 [==============================] - 1s 58us/sample - loss: 3.8157 - val_loss: 2.7080\n",
      "Epoch 6/50\n",
      "11670/11670 [==============================] - 1s 52us/sample - loss: 7.0704 - val_loss: 8.7655\n",
      "Epoch 7/50\n",
      "11670/11670 [==============================] - 1s 59us/sample - loss: 4.9315 - val_loss: 13.0760\n",
      "Epoch 8/50\n",
      "11670/11670 [==============================] - 1s 58us/sample - loss: 5.4170 - val_loss: 3.6418\n",
      "Epoch 9/50\n",
      "11670/11670 [==============================] - 1s 57us/sample - loss: 2.3774 - val_loss: 2.4786\n",
      "Epoch 10/50\n",
      "11670/11670 [==============================] - 1s 56us/sample - loss: 4.7916 - val_loss: 8.2562\n",
      "Epoch 11/50\n",
      "11670/11670 [==============================] - 1s 57us/sample - loss: 3.7132 - val_loss: 8.4366\n",
      "Epoch 12/50\n",
      "11670/11670 [==============================] - 1s 60us/sample - loss: 4.2575 - val_loss: 5.6574\n",
      "Epoch 13/50\n",
      "11670/11670 [==============================] - 1s 54us/sample - loss: 6.2853 - val_loss: 2.8554\n",
      "Epoch 14/50\n",
      "11670/11670 [==============================] - 1s 59us/sample - loss: 2.6402 - val_loss: 4.3660\n",
      "Epoch 15/50\n",
      "11670/11670 [==============================] - 1s 58us/sample - loss: 4.8370 - val_loss: 5.4159\n",
      "Epoch 16/50\n",
      "11670/11670 [==============================] - 1s 68us/sample - loss: 4.4684 - val_loss: 3.9259\n",
      "Epoch 17/50\n",
      "11670/11670 [==============================] - 1s 63us/sample - loss: 3.3675 - val_loss: 9.8309\n",
      "Epoch 18/50\n",
      "11670/11670 [==============================] - 1s 51us/sample - loss: 3.7840 - val_loss: 9.1371\n",
      "Epoch 19/50\n",
      "11670/11670 [==============================] - 1s 43us/sample - loss: 8.1866 - val_loss: 16.8901\n",
      "Epoch 20/50\n",
      "11670/11670 [==============================] - 1s 55us/sample - loss: 4.8576 - val_loss: 2.1052\n",
      "Epoch 21/50\n",
      "11670/11670 [==============================] - 0s 41us/sample - loss: 3.2402 - val_loss: 3.8252\n",
      "Epoch 22/50\n",
      "11670/11670 [==============================] - 0s 42us/sample - loss: 2.7604 - val_loss: 4.6150\n",
      "Epoch 23/50\n",
      "11670/11670 [==============================] - 1s 50us/sample - loss: 3.6054 - val_loss: 1.5202\n",
      "Epoch 24/50\n",
      "11670/11670 [==============================] - 1s 74us/sample - loss: 3.2151 - val_loss: 6.3099\n",
      "Epoch 25/50\n",
      "11670/11670 [==============================] - 1s 56us/sample - loss: 6.3997 - val_loss: 14.2863\n",
      "Epoch 26/50\n",
      "11670/11670 [==============================] - 1s 69us/sample - loss: 4.6900 - val_loss: 2.1274\n",
      "Epoch 27/50\n",
      "11670/11670 [==============================] - 1s 46us/sample - loss: 3.8131 - val_loss: 4.3898\n",
      "Epoch 28/50\n",
      "11670/11670 [==============================] - 0s 42us/sample - loss: 4.5691 - val_loss: 9.5457\n",
      "Epoch 29/50\n",
      "11670/11670 [==============================] - 0s 38us/sample - loss: 6.0611 - val_loss: 7.3052\n",
      "Epoch 30/50\n",
      "11670/11670 [==============================] - 0s 36us/sample - loss: 4.1294 - val_loss: 5.0617\n",
      "Epoch 31/50\n",
      "11670/11670 [==============================] - 0s 40us/sample - loss: 3.4361 - val_loss: 5.3843\n",
      "Epoch 32/50\n",
      "11670/11670 [==============================] - 0s 38us/sample - loss: 7.7285 - val_loss: 11.1762\n",
      "Epoch 33/50\n",
      "11670/11670 [==============================] - 0s 38us/sample - loss: 4.0812 - val_loss: 1.5226\n",
      "Epoch 34/50\n",
      "11670/11670 [==============================] - 0s 33us/sample - loss: 2.5193 - val_loss: 4.7312\n",
      "Epoch 35/50\n",
      "11670/11670 [==============================] - 0s 33us/sample - loss: 4.7159 - val_loss: 1.7940\n",
      "Epoch 36/50\n",
      "11670/11670 [==============================] - 0s 39us/sample - loss: 3.4166 - val_loss: 5.8691\n",
      "Epoch 37/50\n",
      "11670/11670 [==============================] - 1s 45us/sample - loss: 4.0658 - val_loss: 6.8817\n",
      "Epoch 38/50\n",
      "11670/11670 [==============================] - 0s 38us/sample - loss: 5.5358 - val_loss: 2.5441\n",
      "Epoch 39/50\n",
      "11670/11670 [==============================] - 1s 47us/sample - loss: 2.6478 - val_loss: 5.0195\n",
      "Epoch 40/50\n",
      "11670/11670 [==============================] - 1s 68us/sample - loss: 7.8685 - val_loss: 4.0086\n",
      "Epoch 41/50\n",
      "11670/11670 [==============================] - 1s 70us/sample - loss: 5.1217 - val_loss: 1.3487\n",
      "Epoch 42/50\n",
      "11670/11670 [==============================] - 1s 50us/sample - loss: 1.8092 - val_loss: 3.7941\n",
      "Epoch 43/50\n",
      "11670/11670 [==============================] - 1s 50us/sample - loss: 3.7247 - val_loss: 3.4829\n",
      "Epoch 44/50\n",
      "11670/11670 [==============================] - 1s 57us/sample - loss: 4.2660 - val_loss: 4.4833\n",
      "Epoch 45/50\n",
      "11670/11670 [==============================] - 1s 54us/sample - loss: 3.2281 - val_loss: 2.2511\n",
      "Epoch 46/50\n",
      "11670/11670 [==============================] - 0s 41us/sample - loss: 4.7124 - val_loss: 3.4070\n",
      "Epoch 47/50\n",
      "11670/11670 [==============================] - 0s 42us/sample - loss: 3.7305 - val_loss: 5.5224\n",
      "Epoch 48/50\n",
      "11670/11670 [==============================] - 1s 44us/sample - loss: 3.6497 - val_loss: 1.7195\n",
      "Epoch 49/50\n",
      "11670/11670 [==============================] - 0s 37us/sample - loss: 3.2409 - val_loss: 4.0923\n",
      "Epoch 50/50\n",
      "11670/11670 [==============================] - 0s 37us/sample - loss: 3.6083 - val_loss: 1.6092\n"
     ]
    },
    {
     "data": {
      "text/plain": [
       "<tensorflow.python.keras.callbacks.History at 0x454327908>"
      ]
     },
     "execution_count": 509,
     "metadata": {},
     "output_type": "execute_result"
    }
   ],
   "source": [
    "\n",
    "from numpy import unique\n",
    "\n",
    "\n",
    "# Count the unique number of teams\n",
    "n_ppl = len(cast_filt.nconst.unique()) + 1\n",
    "\n",
    "# Create an embedding layer\n",
    "ppl_lookup = Embedding(input_dim=n_ppl,\n",
    "                        output_dim=16,\n",
    "                        input_length=1,\n",
    "                        name='Ppl-Vectors')\n",
    "                        \n",
    "# The unique person id is input\n",
    "pid_in = Input(shape=(1,))\n",
    "\n",
    "# Lookup the input in the person id embedding layer\n",
    "pplid_lookup = ppl_lookup(pid_in)\n",
    "\n",
    "# Flatten the output\n",
    "pplid_lookup_flat = Flatten()(pplid_lookup)\n",
    "\n",
    "# Combine the operations into a single, re-usable model for cast member embeddings\n",
    "ppl_embed_model = Model(pid_in, pplid_lookup_flat, name='Ppl-Vector-Model')\n",
    "\n",
    "\n",
    "\n",
    "# Count the unique number of genres\n",
    "n_genres = unique(X['genres']).shape[0]\n",
    "\n",
    "# Create an embedding layer for genres\n",
    "genre_lookup = Embedding(input_dim=n_genres,\n",
    "                        output_dim=10,\n",
    "                        input_length=1,\n",
    "                        name='Genre-Vectors')\n",
    "                        \n",
    "# Input genre token\n",
    "genre_in = Input(shape=(1,))\n",
    "\n",
    "# Lookup the input in the genre embedding layer\n",
    "genreid_lookup = genre_lookup(genre_in)\n",
    "\n",
    "# Flatten the output\n",
    "genreid_lookup_flat = Flatten()(genreid_lookup)\n",
    "\n",
    "# Combine the operations into a single, re-usable model for genre embeddings\n",
    "genre_embed_model = Model(genre_in, genreid_lookup_flat, name='Genre-Vector-Model')\n",
    "\n",
    "\n",
    "\n",
    "\n",
    "# Create an Input for each cast member. There are upto 10 given for each movie\n",
    "p_in_1 = Input(shape=(1,), name='P-1-In')\n",
    "p_in_2 = Input(shape=(1,), name='P-2-In')\n",
    "p_in_3 = Input(shape=(1,), name='P-3-In')\n",
    "p_in_4 = Input(shape=(1,), name='P-4-In')\n",
    "p_in_5 = Input(shape=(1,), name='P-5-In')\n",
    "p_in_6 = Input(shape=(1,), name='P-6-In')\n",
    "p_in_7 = Input(shape=(1,), name='P-7-In')\n",
    "p_in_8 = Input(shape=(1,), name='P-8-In')\n",
    "p_in_9 = Input(shape=(1,), name='P-9-In')\n",
    "p_in_10 = Input(shape=(1,), name='P-10-In')\n",
    "\n",
    "# Create an Input for each genre, \n",
    "genre_in = Input(shape=(1,), name='Genre-In')\n",
    "\n",
    "\n",
    "# Create a numerical input for runtime in minutes and number of votes\n",
    "runtime_in = Input(shape=(1,), name='Runtime-In')\n",
    "votes_in = Input(shape=(1,), name='Votes-In')\n",
    "\n",
    "# Lookup the cast member inputs in the cast member embedding model\n",
    "p_1_strength = ppl_embed_model(p_in_1)\n",
    "p_2_strength = ppl_embed_model(p_in_2)\n",
    "p_3_strength = ppl_embed_model(p_in_3)\n",
    "p_4_strength = ppl_embed_model(p_in_4)\n",
    "p_5_strength = ppl_embed_model(p_in_5)\n",
    "p_6_strength = ppl_embed_model(p_in_6)\n",
    "p_7_strength = ppl_embed_model(p_in_7)\n",
    "p_8_strength = ppl_embed_model(p_in_8)\n",
    "p_9_strength = ppl_embed_model(p_in_9)\n",
    "p_10_strength = ppl_embed_model(p_in_10)\n",
    "\n",
    "genre_strength = genre_embed_model(genre_in)\n",
    "\n",
    "\n",
    "# Combine the cast member embeddings using an Add layer, \n",
    "# then using Concatenate to concatenate the genre, runtime and num_votes inputs\n",
    "# Finally adding a add a single output Dense layer\n",
    "\n",
    "out1 = Add()([p_1_strength,p_2_strength,p_3_strength,p_4_strength,p_5_strength,\n",
    "             p_6_strength,p_7_strength,p_8_strength,p_9_strength,p_10_strength])\n",
    "out = Concatenate()([out1, genre_strength, runtime_in, votes_in])\n",
    "#out = Dense(64, activation='relu')(out)\n",
    "#out2 = Dense(4, activation='relu')(out)\n",
    "#out4 = Dense(16, activation='relu')(out2)\n",
    "out3 = Dense(1)(out)\n",
    "\n",
    "\n",
    "# Import the model class\n",
    "from tensorflow.keras.models import Model\n",
    "\n",
    "# Make a Model\n",
    "ip = [p_in_1,p_in_2,p_in_3,p_in_4,p_in_5,p_in_6,p_in_7,p_in_8,p_in_9,p_in_10,genre_in, runtime_in, votes_in]\n",
    "model = Model(ip, out3)\n",
    "\n",
    "# Compile the model. Use MAE as performance metric\n",
    "model.compile(optimizer='adam', loss='mean_absolute_error')\n",
    "\n",
    "\n",
    "# Fit the model to the training dataset\n",
    "ip2 = [X_train[1], X_train[2],X_train[3],X_train[4],\n",
    "     X_train[5],X_train[6],X_train[7], X_train[8],\n",
    "     X_train[9], X_train[10], X_train.genres, X_train.runtimeMinutes,\n",
    "       X_train.numVotes]\n",
    "model.fit(ip2,\n",
    "          y_train.averageRating,\n",
    "          epochs=50,\n",
    "          verbose=True,\n",
    "          validation_split=.10,\n",
    "          batch_size=256)\n",
    "\n"
   ]
  },
  {
   "cell_type": "code",
   "execution_count": 510,
   "metadata": {},
   "outputs": [],
   "source": [
    "ip_test = [X_test[1], X_test[2],X_test[3],X_test[4],\n",
    "     X_test[5],X_test[6],X_test[7], X_test[8],\n",
    "     X_test[9], X_test[10], X_test.genres, X_test.runtimeMinutes,\n",
    "       X_test.numVotes]\n",
    "\n",
    "y_pred = model.predict(ip_test)"
   ]
  },
  {
   "cell_type": "code",
   "execution_count": 511,
   "metadata": {},
   "outputs": [
    {
     "name": "stdout",
     "output_type": "stream",
     "text": [
      "3242/3242 [==============================] - 0s 49us/sample - loss: 1.5635\n"
     ]
    },
    {
     "data": {
      "text/plain": [
       "1.56347756309321"
      ]
     },
     "execution_count": 511,
     "metadata": {},
     "output_type": "execute_result"
    }
   ],
   "source": [
    "model.evaluate(ip_test, y_test)"
   ]
  },
  {
   "cell_type": "markdown",
   "metadata": {},
   "source": [
    "### Apporach 1.1 Test MAE : 1.563"
   ]
  },
  {
   "cell_type": "code",
   "execution_count": 512,
   "metadata": {},
   "outputs": [
    {
     "data": {
      "text/plain": [
       "array([[4.839862 ],\n",
       "       [5.7994475],\n",
       "       [6.030299 ],\n",
       "       ...,\n",
       "       [4.8653235],\n",
       "       [5.6613107],\n",
       "       [5.7518144]], dtype=float32)"
      ]
     },
     "execution_count": 512,
     "metadata": {},
     "output_type": "execute_result"
    }
   ],
   "source": [
    "y_pred"
   ]
  },
  {
   "cell_type": "code",
   "execution_count": 513,
   "metadata": {},
   "outputs": [
    {
     "data": {
      "text/html": [
       "<div>\n",
       "<style scoped>\n",
       "    .dataframe tbody tr th:only-of-type {\n",
       "        vertical-align: middle;\n",
       "    }\n",
       "\n",
       "    .dataframe tbody tr th {\n",
       "        vertical-align: top;\n",
       "    }\n",
       "\n",
       "    .dataframe thead th {\n",
       "        text-align: right;\n",
       "    }\n",
       "</style>\n",
       "<table border=\"1\" class=\"dataframe\">\n",
       "  <thead>\n",
       "    <tr style=\"text-align: right;\">\n",
       "      <th></th>\n",
       "      <th>averageRating</th>\n",
       "    </tr>\n",
       "  </thead>\n",
       "  <tbody>\n",
       "    <tr>\n",
       "      <th>4226</th>\n",
       "      <td>6.2</td>\n",
       "    </tr>\n",
       "    <tr>\n",
       "      <th>11070</th>\n",
       "      <td>8.3</td>\n",
       "    </tr>\n",
       "    <tr>\n",
       "      <th>2450</th>\n",
       "      <td>6.9</td>\n",
       "    </tr>\n",
       "    <tr>\n",
       "      <th>1493</th>\n",
       "      <td>5.4</td>\n",
       "    </tr>\n",
       "    <tr>\n",
       "      <th>3894</th>\n",
       "      <td>5.0</td>\n",
       "    </tr>\n",
       "  </tbody>\n",
       "</table>\n",
       "</div>"
      ],
      "text/plain": [
       "       averageRating\n",
       "4226             6.2\n",
       "11070            8.3\n",
       "2450             6.9\n",
       "1493             5.4\n",
       "3894             5.0"
      ]
     },
     "execution_count": 513,
     "metadata": {},
     "output_type": "execute_result"
    }
   ],
   "source": [
    "y_test.head()"
   ]
  },
  {
   "cell_type": "code",
   "execution_count": 520,
   "metadata": {},
   "outputs": [
    {
     "data": {
      "text/plain": [
       "(array([1.000e+00, 1.000e+00, 2.000e+00, 3.000e+00, 4.000e+00, 2.000e+00,\n",
       "        7.000e+00, 1.700e+01, 2.800e+01, 2.270e+02, 7.490e+02, 1.109e+03,\n",
       "        7.870e+02, 2.630e+02, 3.300e+01, 7.000e+00, 0.000e+00, 0.000e+00,\n",
       "        0.000e+00, 2.000e+00]),\n",
       " array([-6.13375   , -5.162877  , -4.1920047 , -3.2211318 , -2.250259  ,\n",
       "        -1.2793863 , -0.30851355,  0.6623592 ,  1.6332319 ,  2.6041048 ,\n",
       "         3.5749774 ,  4.5458503 ,  5.5167227 ,  6.4875956 ,  7.4584684 ,\n",
       "         8.429341  ,  9.400214  , 10.371086  , 11.341959  , 12.312832  ,\n",
       "        13.283705  ], dtype=float32),\n",
       " <a list of 20 Patch objects>)"
      ]
     },
     "execution_count": 520,
     "metadata": {},
     "output_type": "execute_result"
    },
    {
     "data": {
      "image/png": "[encoded data removed]",
      "text/plain": [
       "<Figure size 432x288 with 1 Axes>"
      ]
     },
     "metadata": {
      "needs_background": "light"
     },
     "output_type": "display_data"
    }
   ],
   "source": [
    "# Visualizing predicted ratings distribution\n",
    "from matplotlib import pyplot as plt\n",
    "plt.hist(y_pred, bins=20)"
   ]
  },
  {
   "cell_type": "code",
   "execution_count": null,
   "metadata": {},
   "outputs": [],
   "source": []
  },
  {
   "cell_type": "markdown",
   "metadata": {},
   "source": [
    "## Approach 1.2 Categorical Embedding Neural Network with Concatenated combination"
   ]
  },
  {
   "cell_type": "code",
   "execution_count": 568,
   "metadata": {},
   "outputs": [
    {
     "name": "stdout",
     "output_type": "stream",
     "text": [
      "Train on 11670 samples, validate on 1297 samples\n",
      "Epoch 1/50\n",
      "11670/11670 [==============================] - 1s 103us/sample - loss: 1344.2776 - val_loss: 586.1882\n",
      "Epoch 2/50\n",
      "11670/11670 [==============================] - 1s 45us/sample - loss: 120.2380 - val_loss: 19.6988\n",
      "Epoch 3/50\n",
      "11670/11670 [==============================] - 1s 56us/sample - loss: 17.9379 - val_loss: 14.6231\n",
      "Epoch 4/50\n",
      "11670/11670 [==============================] - 1s 53us/sample - loss: 12.8006 - val_loss: 10.3547\n",
      "Epoch 5/50\n",
      "11670/11670 [==============================] - 1s 47us/sample - loss: 9.0662 - val_loss: 15.2258\n",
      "Epoch 6/50\n",
      "11670/11670 [==============================] - 1s 64us/sample - loss: 6.6978 - val_loss: 5.6765\n",
      "Epoch 7/50\n",
      "11670/11670 [==============================] - 1s 59us/sample - loss: 5.6627 - val_loss: 3.0697\n",
      "Epoch 8/50\n",
      "11670/11670 [==============================] - 1s 60us/sample - loss: 5.5527 - val_loss: 1.8088\n",
      "Epoch 9/50\n",
      "11670/11670 [==============================] - 1s 55us/sample - loss: 3.3530 - val_loss: 7.5683\n",
      "Epoch 10/50\n",
      "11670/11670 [==============================] - 1s 57us/sample - loss: 5.3041 - val_loss: 1.3092\n",
      "Epoch 11/50\n",
      "11670/11670 [==============================] - 1s 56us/sample - loss: 3.4433 - val_loss: 5.9398\n",
      "Epoch 12/50\n",
      "11670/11670 [==============================] - 1s 68us/sample - loss: 5.5279 - val_loss: 5.2232\n",
      "Epoch 13/50\n",
      "11670/11670 [==============================] - 1s 58us/sample - loss: 3.8985 - val_loss: 4.7142\n",
      "Epoch 14/50\n",
      "11670/11670 [==============================] - 1s 55us/sample - loss: 8.9207 - val_loss: 11.2557\n",
      "Epoch 15/50\n",
      "11670/11670 [==============================] - 1s 56us/sample - loss: 9.3660 - val_loss: 13.6516\n",
      "Epoch 16/50\n",
      "11670/11670 [==============================] - 1s 56us/sample - loss: 5.2229 - val_loss: 8.0358\n",
      "Epoch 17/50\n",
      "11670/11670 [==============================] - 1s 56us/sample - loss: 4.2159 - val_loss: 6.3486\n",
      "Epoch 18/50\n",
      "11670/11670 [==============================] - 1s 59us/sample - loss: 3.1115 - val_loss: 1.2667\n",
      "Epoch 19/50\n",
      "11670/11670 [==============================] - 1s 60us/sample - loss: 3.1481 - val_loss: 6.3248\n",
      "Epoch 20/50\n",
      "11670/11670 [==============================] - 1s 63us/sample - loss: 4.8715 - val_loss: 5.3528\n",
      "Epoch 21/50\n",
      "11670/11670 [==============================] - 1s 63us/sample - loss: 3.2422 - val_loss: 2.6848\n",
      "Epoch 22/50\n",
      "11670/11670 [==============================] - 1s 58us/sample - loss: 7.7988 - val_loss: 19.6305\n",
      "Epoch 23/50\n",
      "11670/11670 [==============================] - 1s 60us/sample - loss: 7.0669 - val_loss: 11.9780\n",
      "Epoch 24/50\n",
      "11670/11670 [==============================] - 1s 61us/sample - loss: 4.4472 - val_loss: 1.3498\n",
      "Epoch 25/50\n",
      "11670/11670 [==============================] - 1s 56us/sample - loss: 2.2060 - val_loss: 6.2174\n",
      "Epoch 26/50\n",
      "11670/11670 [==============================] - 1s 48us/sample - loss: 4.4306 - val_loss: 16.9247\n",
      "Epoch 27/50\n",
      "11670/11670 [==============================] - 1s 56us/sample - loss: 3.8126 - val_loss: 1.7990\n",
      "Epoch 28/50\n",
      "11670/11670 [==============================] - 1s 57us/sample - loss: 3.8549 - val_loss: 3.1031\n",
      "Epoch 29/50\n",
      "11670/11670 [==============================] - 0s 42us/sample - loss: 5.6630 - val_loss: 6.6929\n",
      "Epoch 30/50\n",
      "11670/11670 [==============================] - 1s 56us/sample - loss: 7.6580 - val_loss: 1.5246\n",
      "Epoch 31/50\n",
      "11670/11670 [==============================] - 1s 58us/sample - loss: 2.1426 - val_loss: 1.7880\n",
      "Epoch 32/50\n",
      "11670/11670 [==============================] - 1s 48us/sample - loss: 4.1718 - val_loss: 2.0407\n",
      "Epoch 33/50\n",
      "11670/11670 [==============================] - 1s 64us/sample - loss: 2.7310 - val_loss: 2.2348\n",
      "Epoch 34/50\n",
      "11670/11670 [==============================] - 1s 64us/sample - loss: 2.2882 - val_loss: 3.1867\n",
      "Epoch 35/50\n",
      "11670/11670 [==============================] - 1s 49us/sample - loss: 4.6463 - val_loss: 4.0335\n",
      "Epoch 36/50\n",
      "11670/11670 [==============================] - 1s 67us/sample - loss: 3.9881 - val_loss: 3.0891\n",
      "Epoch 37/50\n",
      "11670/11670 [==============================] - 1s 64us/sample - loss: 1.9539 - val_loss: 1.1366\n",
      "Epoch 38/50\n",
      "11670/11670 [==============================] - 1s 58us/sample - loss: 3.1858 - val_loss: 6.0170\n",
      "Epoch 39/50\n",
      "11670/11670 [==============================] - 1s 63us/sample - loss: 2.4822 - val_loss: 2.2339\n",
      "Epoch 40/50\n",
      "11670/11670 [==============================] - 1s 66us/sample - loss: 3.1243 - val_loss: 6.4054\n",
      "Epoch 41/50\n",
      "11670/11670 [==============================] - 1s 54us/sample - loss: 3.1847 - val_loss: 4.7105\n",
      "Epoch 42/50\n",
      "11670/11670 [==============================] - 1s 58us/sample - loss: 3.7029 - val_loss: 2.7843\n",
      "Epoch 43/50\n",
      "11670/11670 [==============================] - 1s 63us/sample - loss: 3.5829 - val_loss: 5.1067\n",
      "Epoch 44/50\n",
      "11670/11670 [==============================] - 1s 58us/sample - loss: 2.1402 - val_loss: 7.6937\n",
      "Epoch 45/50\n",
      "11670/11670 [==============================] - 1s 59us/sample - loss: 4.0339 - val_loss: 3.6039\n",
      "Epoch 46/50\n",
      "11670/11670 [==============================] - 1s 63us/sample - loss: 4.8389 - val_loss: 5.7530\n",
      "Epoch 47/50\n",
      "11670/11670 [==============================] - 1s 52us/sample - loss: 4.7808 - val_loss: 9.8240\n",
      "Epoch 48/50\n",
      "11670/11670 [==============================] - 1s 60us/sample - loss: 2.1408 - val_loss: 1.6908\n",
      "Epoch 49/50\n",
      "11670/11670 [==============================] - 1s 57us/sample - loss: 4.1133 - val_loss: 6.5599\n",
      "Epoch 50/50\n",
      "11670/11670 [==============================] - 1s 64us/sample - loss: 2.9664 - val_loss: 10.4463\n"
     ]
    },
    {
     "data": {
      "text/plain": [
       "<tensorflow.python.keras.callbacks.History at 0x44e5c47f0>"
      ]
     },
     "execution_count": 568,
     "metadata": {},
     "output_type": "execute_result"
    }
   ],
   "source": [
    "## Same as above except all the cast member embeddings are combined via concatenation\n",
    "# instead of addition\n",
    "\n",
    "from numpy import unique\n",
    "\n",
    "\n",
    "# Count the unique number of teams\n",
    "n_ppl = len(cast_filt.nconst.unique()) + 1\n",
    "\n",
    "# Create an embedding layer\n",
    "ppl_lookup = Embedding(input_dim=n_ppl,\n",
    "                        output_dim=16,\n",
    "                        input_length=1,\n",
    "                        name='Ppl-Vectors')\n",
    "                        \n",
    "\n",
    "pid_in = Input(shape=(1,))\n",
    "\n",
    "# Lookup the input in the team strength embedding layer\n",
    "pplid_lookup = ppl_lookup(pid_in)\n",
    "\n",
    "# Flatten the output\n",
    "pplid_lookup_flat = Flatten()(pplid_lookup)\n",
    "\n",
    "# Combine the operations into a single, re-usable model\n",
    "ppl_embed_model = Model(pid_in, pplid_lookup_flat, name='Ppl-Vector-Model')\n",
    "\n",
    "\n",
    "\n",
    "# Count the unique number of teams\n",
    "n_genres = unique(X['genres']).shape[0]\n",
    "\n",
    "# Create an embedding layer\n",
    "genre_lookup = Embedding(input_dim=n_genres,\n",
    "                        output_dim=10,\n",
    "                        input_length=1,\n",
    "                        name='Genre-Vectors')\n",
    "                        \n",
    "\n",
    "genre_in = Input(shape=(1,))\n",
    "\n",
    "# Lookup the input in the team strength embedding layer\n",
    "genreid_lookup = genre_lookup(genre_in)\n",
    "\n",
    "# Flatten the output\n",
    "genreid_lookup_flat = Flatten()(genreid_lookup)\n",
    "\n",
    "# Combine the operations into a single, re-usable model\n",
    "genre_embed_model = Model(genre_in, genreid_lookup_flat, name='Genre-Vector-Model')\n",
    "\n",
    "\n",
    "\n",
    "\n",
    "# Create an Input for each team\n",
    "p_in_1 = Input(shape=(1,), name='P-1-In')\n",
    "p_in_2 = Input(shape=(1,), name='P-2-In')\n",
    "p_in_3 = Input(shape=(1,), name='P-3-In')\n",
    "p_in_4 = Input(shape=(1,), name='P-4-In')\n",
    "p_in_5 = Input(shape=(1,), name='P-5-In')\n",
    "p_in_6 = Input(shape=(1,), name='P-6-In')\n",
    "p_in_7 = Input(shape=(1,), name='P-7-In')\n",
    "p_in_8 = Input(shape=(1,), name='P-8-In')\n",
    "p_in_9 = Input(shape=(1,), name='P-9-In')\n",
    "p_in_10 = Input(shape=(1,), name='P-10-In')\n",
    "\n",
    "genre_in = Input(shape=(1,), name='Genre-In')\n",
    "\n",
    "\n",
    "# Create an input for home vs away\n",
    "runtime_in = Input(shape=(1,), name='Runtime-In')\n",
    "votes_in = Input(shape=(1,), name='Votes-In')\n",
    "\n",
    "# Lookup the team inputs in the team strength model\n",
    "p_1_strength = ppl_embed_model(p_in_1)\n",
    "p_2_strength = ppl_embed_model(p_in_2)\n",
    "p_3_strength = ppl_embed_model(p_in_3)\n",
    "p_4_strength = ppl_embed_model(p_in_4)\n",
    "p_5_strength = ppl_embed_model(p_in_5)\n",
    "p_6_strength = ppl_embed_model(p_in_6)\n",
    "p_7_strength = ppl_embed_model(p_in_7)\n",
    "p_8_strength = ppl_embed_model(p_in_8)\n",
    "p_9_strength = ppl_embed_model(p_in_9)\n",
    "p_10_strength = ppl_embed_model(p_in_10)\n",
    "\n",
    "genre_strength = genre_embed_model(genre_in)\n",
    "\n",
    "\n",
    "# Combine the team strengths with the home input using a Concatenate layer, then add a Dense layer\n",
    "out1 = Concatenate()([p_1_strength,p_2_strength,p_3_strength,p_4_strength,p_5_strength,\n",
    "             p_6_strength,p_7_strength,p_8_strength,p_9_strength,p_10_strength])\n",
    "out = Concatenate()([out1, genre_strength, runtime_in, votes_in])\n",
    "#out = Dense(64, activation='relu')(out)\n",
    "#out2 = Dense(4, activation='relu')(out)\n",
    "#out4 = Dense(16, activation='relu')(out2)\n",
    "out3 = Dense(1)(out)\n",
    "\n",
    "\n",
    "# Import the model class\n",
    "from tensorflow.keras.models import Model\n",
    "\n",
    "# Make a Model\n",
    "ip = [p_in_1,p_in_2,p_in_3,p_in_4,p_in_5,p_in_6,p_in_7,p_in_8,p_in_9,p_in_10,genre_in, runtime_in, votes_in]\n",
    "model = Model(ip, out3)\n",
    "\n",
    "# Compile the model\n",
    "model.compile(optimizer='adam', loss='mean_absolute_error')\n",
    "\n",
    "\n",
    "# Fit the model to the games_season dataset\n",
    "ip2 = [X_train[1], X_train[2],X_train[3],X_train[4],\n",
    "     X_train[5],X_train[6],X_train[7], X_train[8],\n",
    "     X_train[9], X_train[10], X_train.genres, X_train.runtimeMinutes,\n",
    "       X_train.numVotes]\n",
    "model.fit(ip2,\n",
    "          y_train.averageRating,\n",
    "          epochs=50,\n",
    "          verbose=True,\n",
    "          validation_split=.10,\n",
    "          batch_size=256)\n",
    "\n"
   ]
  },
  {
   "cell_type": "code",
   "execution_count": 569,
   "metadata": {},
   "outputs": [],
   "source": [
    "ip_test = [X_test[1], X_test[2],X_test[3],X_test[4],\n",
    "     X_test[5],X_test[6],X_test[7], X_test[8],\n",
    "     X_test[9], X_test[10], X_test.genres, X_test.runtimeMinutes,\n",
    "       X_test.numVotes]\n",
    "\n",
    "y_pred = model.predict(ip_test)"
   ]
  },
  {
   "cell_type": "code",
   "execution_count": 575,
   "metadata": {},
   "outputs": [
    {
     "data": {
      "text/plain": [
       "8.512035473859434"
      ]
     },
     "execution_count": 575,
     "metadata": {},
     "output_type": "execute_result"
    }
   ],
   "source": [
    "mean_absolute_error(y_test.averageRating, y_pred)"
   ]
  },
  {
   "cell_type": "markdown",
   "metadata": {},
   "source": [
    "### Approach 1.2 MAE : 8.5"
   ]
  },
  {
   "cell_type": "markdown",
   "metadata": {},
   "source": [
    "## Approach 2: RandomForestRegressor"
   ]
  },
  {
   "cell_type": "code",
   "execution_count": 577,
   "metadata": {},
   "outputs": [
    {
     "name": "stderr",
     "output_type": "stream",
     "text": [
      "/Users/adityajadhav/anaconda3/envs/myenv/lib/python3.6/site-packages/ipykernel_launcher.py:3: SettingWithCopyWarning: \n",
      "A value is trying to be set on a copy of a slice from a DataFrame\n",
      "\n",
      "See the caveats in the documentation: http://pandas.pydata.org/pandas-docs/stable/indexing.html#indexing-view-versus-copy\n",
      "  This is separate from the ipykernel package so we can avoid doing imports until\n"
     ]
    }
   ],
   "source": [
    "cast_filt2 = title_cast_df[title_cast_df.tconst.isin(merged_title_df.tconst.unique())]\n",
    "\n",
    "cast_filt2.sort_values(by=['tconst', 'ordering'], inplace=True)"
   ]
  },
  {
   "cell_type": "code",
   "execution_count": 578,
   "metadata": {},
   "outputs": [],
   "source": [
    "cast_filt_wide2 = cast_filt2.pivot(index='tconst', columns='ordering', values='nconst')\n",
    "\n",
    "cast_filt_wide2.reset_index(inplace=True)\n",
    "\n",
    "#cast_filt_wide.fillna(value=70019, inplace=True)\n",
    "merged_title_df2 = merged_df[(merged_df.startYear > 1990) & (merged_df.titleType == 'movie')]\n",
    "\n",
    "merged_title_df2 = merged_title_df2.merge(cast_filt_wide2, on='tconst')\n",
    "\n",
    "merged_title_df2['genres'] = merged_title_df2['genres'].apply(clean_genre)\n",
    "\n",
    "X2 = merged_title_df2[['startYear', 'runtimeMinutes',         'genres',\n",
    "               'numVotes',                1,                2,\n",
    "                      3,                4,                5,                6,\n",
    "                      7,                8,                9,               10]]\n",
    "y2 = merged_title_df2[['averageRating']]"
   ]
  },
  {
   "cell_type": "code",
   "execution_count": 579,
   "metadata": {},
   "outputs": [],
   "source": [
    "X2 = X2.drop(columns=[2,3,4,5,6,7,8,9,10])"
   ]
  },
  {
   "cell_type": "code",
   "execution_count": 580,
   "metadata": {},
   "outputs": [],
   "source": [
    "X2 = pd.get_dummies(X2)"
   ]
  },
  {
   "cell_type": "code",
   "execution_count": 581,
   "metadata": {},
   "outputs": [],
   "source": [
    "from sklearn.ensemble import RandomForestRegressor"
   ]
  },
  {
   "cell_type": "code",
   "execution_count": 582,
   "metadata": {},
   "outputs": [],
   "source": [
    "rf = RandomForestRegressor()"
   ]
  },
  {
   "cell_type": "code",
   "execution_count": 583,
   "metadata": {},
   "outputs": [],
   "source": [
    "X2 = X2.drop(columns=['startYear'])"
   ]
  },
  {
   "cell_type": "code",
   "execution_count": 584,
   "metadata": {},
   "outputs": [],
   "source": [
    "X_train, X_test, y_train, y_test = train_test_split(X2, y2, random_state = 34)"
   ]
  },
  {
   "cell_type": "code",
   "execution_count": 585,
   "metadata": {},
   "outputs": [
    {
     "name": "stderr",
     "output_type": "stream",
     "text": [
      "/Users/adityajadhav/anaconda3/envs/myenv/lib/python3.6/site-packages/sklearn/ensemble/forest.py:246: FutureWarning: The default value of n_estimators will change from 10 in version 0.20 to 100 in 0.22.\n",
      "  \"10 in version 0.20 to 100 in 0.22.\", FutureWarning)\n",
      "/Users/adityajadhav/anaconda3/envs/myenv/lib/python3.6/site-packages/ipykernel_launcher.py:1: DataConversionWarning: A column-vector y was passed when a 1d array was expected. Please change the shape of y to (n_samples,), for example using ravel().\n",
      "  \"\"\"Entry point for launching an IPython kernel.\n"
     ]
    },
    {
     "data": {
      "text/plain": [
       "RandomForestRegressor(bootstrap=True, criterion='mse', max_depth=None,\n",
       "           max_features='auto', max_leaf_nodes=None,\n",
       "           min_impurity_decrease=0.0, min_impurity_split=None,\n",
       "           min_samples_leaf=1, min_samples_split=2,\n",
       "           min_weight_fraction_leaf=0.0, n_estimators=10, n_jobs=None,\n",
       "           oob_score=False, random_state=None, verbose=0, warm_start=False)"
      ]
     },
     "execution_count": 585,
     "metadata": {},
     "output_type": "execute_result"
    }
   ],
   "source": [
    "rf.fit(X_train, y_train)"
   ]
  },
  {
   "cell_type": "code",
   "execution_count": 548,
   "metadata": {},
   "outputs": [
    {
     "data": {
      "text/plain": [
       "0.2621867248784563"
      ]
     },
     "execution_count": 548,
     "metadata": {},
     "output_type": "execute_result"
    }
   ],
   "source": [
    "rf.score(X_test, y_test)"
   ]
  },
  {
   "cell_type": "code",
   "execution_count": 549,
   "metadata": {},
   "outputs": [
    {
     "data": {
      "text/plain": [
       "array([7.32, 6.55, 5.81, ..., 6.75, 6.41, 7.61])"
      ]
     },
     "execution_count": 549,
     "metadata": {},
     "output_type": "execute_result"
    }
   ],
   "source": [
    "rf.predict(X_test)"
   ]
  },
  {
   "cell_type": "code",
   "execution_count": 553,
   "metadata": {},
   "outputs": [],
   "source": [
    "rf_params = {\n",
    " 'max_depth': [10, 40, 80, 100, None],\n",
    " 'max_features': ['auto', 'sqrt'],\n",
    " 'min_samples_leaf': [1, 2, 4],\n",
    " 'min_samples_split': [2, 5, 10]\n",
    " }"
   ]
  },
  {
   "cell_type": "code",
   "execution_count": 551,
   "metadata": {},
   "outputs": [],
   "source": [
    "from sklearn.model_selection import RandomizedSearchCV"
   ]
  },
  {
   "cell_type": "code",
   "execution_count": 595,
   "metadata": {},
   "outputs": [
    {
     "name": "stdout",
     "output_type": "stream",
     "text": [
      "Fitting 5 folds for each of 20 candidates, totalling 100 fits\n"
     ]
    },
    {
     "name": "stderr",
     "output_type": "stream",
     "text": [
      "[Parallel(n_jobs=-1)]: Using backend LokyBackend with 4 concurrent workers.\n",
      "[Parallel(n_jobs=-1)]: Done  33 tasks      | elapsed:  2.7min\n",
      "[Parallel(n_jobs=-1)]: Done 100 out of 100 | elapsed:  6.1min finished\n",
      "/Users/adityajadhav/anaconda3/envs/myenv/lib/python3.6/site-packages/sklearn/model_selection/_search.py:740: DataConversionWarning: A column-vector y was passed when a 1d array was expected. Please change the shape of y to (n_samples,), for example using ravel().\n",
      "  self.best_estimator_.fit(X, y, **fit_params)\n"
     ]
    },
    {
     "data": {
      "text/plain": [
       "RandomizedSearchCV(cv=5, error_score='raise-deprecating',\n",
       "          estimator=RandomForestRegressor(bootstrap=True, criterion='mse', max_depth=None,\n",
       "           max_features='auto', max_leaf_nodes=None,\n",
       "           min_impurity_decrease=0.0, min_impurity_split=None,\n",
       "           min_samples_leaf=1, min_samples_split=2,\n",
       "           min_weight_fraction_leaf=0.0, n_estimators=10, n_jobs=None,\n",
       "           oob_score=False, random_state=None, verbose=0, warm_start=False),\n",
       "          fit_params=None, iid='warn', n_iter=20, n_jobs=-1,\n",
       "          param_distributions={'max_depth': [10, 40, 80, 100, None], 'max_features': ['auto', 'sqrt'], 'min_samples_leaf': [1, 2, 4], 'min_samples_split': [2, 5, 10]},\n",
       "          pre_dispatch='2*n_jobs', random_state=42, refit=True,\n",
       "          return_train_score='warn', scoring=None, verbose=2)"
      ]
     },
     "execution_count": 595,
     "metadata": {},
     "output_type": "execute_result"
    }
   ],
   "source": [
    "rf_random = RandomizedSearchCV(estimator = rf,\n",
    "                               param_distributions=rf_params , \n",
    "                               n_iter = 20, cv = 5, verbose=2, \n",
    "                               random_state=42,\n",
    "                               n_jobs = -1)\n",
    "\n",
    "# Fit the random search model\n",
    "rf_random.fit(X_train, y_train)"
   ]
  },
  {
   "cell_type": "code",
   "execution_count": 596,
   "metadata": {},
   "outputs": [
    {
     "data": {
      "text/plain": [
       "0.30076294829154504"
      ]
     },
     "execution_count": 596,
     "metadata": {},
     "output_type": "execute_result"
    }
   ],
   "source": [
    "rf_random.score(X_test, y_test)"
   ]
  },
  {
   "cell_type": "code",
   "execution_count": 597,
   "metadata": {},
   "outputs": [],
   "source": [
    "rf_pred = rf_random.predict(X_test)"
   ]
  },
  {
   "cell_type": "code",
   "execution_count": 598,
   "metadata": {},
   "outputs": [
    {
     "data": {
      "text/plain": [
       "0.6872563533185294"
      ]
     },
     "execution_count": 598,
     "metadata": {},
     "output_type": "execute_result"
    }
   ],
   "source": [
    "mean_absolute_error(rf_pred, y_test.averageRating)"
   ]
  },
  {
   "cell_type": "markdown",
   "metadata": {},
   "source": [
    "### Approach 2 has a test MAE of 0.6872"
   ]
  },
  {
   "cell_type": "markdown",
   "metadata": {},
   "source": [
    "## Conclusion : The Random Forest regressor providesthe best performance than the embedding space neural network."
   ]
  },
  {
   "cell_type": "markdown",
   "metadata": {},
   "source": [
    "## Next Steps\n",
    "- If I had more time, I would fine tune the Categorical Embedding model further. Maybe tuned the number of cast members that we care about. \n",
    "- Also, I would tune the embeddings sizes\n",
    "- I would also experiment with using the transformed dataset after obtaining the embeddings and fed it into the Random Forest regressor."
   ]
  },
  {
   "cell_type": "code",
   "execution_count": null,
   "metadata": {},
   "outputs": [],
   "source": []
  }
 ],
 "metadata": {
  "kernelspec": {
   "display_name": "Python (myenv)",
   "language": "python",
   "name": "myenv"
  },
  "language_info": {
   "codemirror_mode": {
    "name": "ipython",
    "version": 3
   },
   "file_extension": ".py",
   "mimetype": "text/x-python",
   "name": "python",
   "nbconvert_exporter": "python",
   "pygments_lexer": "ipython3",
   "version": "3.6.8"
  }
 },
 "nbformat": 4,
 "nbformat_minor": 2
}
